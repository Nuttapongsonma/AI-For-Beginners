{
  "cells": [
    {
      "cell_type": "markdown",
      "metadata": {
        "collapsed": true,
        "id": "ykVr3XT9gYXu"
      },
      "source": [
        "# Implementing an Animal Expert System\n",
        "\n",
        "An example from [AI for Beginners Curriculum](http://github.com/microsoft/ai-for-beginners).\n",
        "\n",
        "In this sample, we will implement a simple knowledge-based system to determine an animal based on some physical characteristics. The system can be represented by the following AND-OR tree (this is a part of the whole tree, we can easily add some more rules):\n",
        "\n",
        "![](https://github.com/Nuttapongsonma/AI-For-Beginners/blob/main/lessons/2-Symbolic/images/AND-OR-Tree.png?raw=1)"
      ]
    },
    {
      "cell_type": "markdown",
      "metadata": {
        "id": "ncuFkDajgYXv"
      },
      "source": [
        "## Our own expert systems shell with backward inference\n",
        "\n",
        "Let's try to define a simple language for knowledge representation based on production rules. We will use Python classes as keywords to define rules. There would be essentially 3 types of classes:\n",
        "* `Ask` represents a question that needs to be asked to the user. It contains the set of possible answers.\n",
        "* `If` represents a rule, and it is just a syntactic sugar to store the content of the rule\n",
        "* `AND`/`OR` are classes to represent AND/OR branches of the tree. They just store the list of arguments inside. To simplify code, all functionality is defined in the parent class `Content`"
      ]
    },
    {
      "cell_type": "code",
      "execution_count": null,
      "metadata": {
        "trusted": true,
        "id": "HuFp2oV_gYXv"
      },
      "outputs": [],
      "source": [
        "class Ask():\n",
        "    def __init__(self,choices=['y','n']):\n",
        "        self.choices = choices\n",
        "    def ask(self):\n",
        "        if max([len(x) for x in self.choices])>1:\n",
        "            for i,x in enumerate(self.choices):\n",
        "                print(\"{0}. {1}\".format(i,x),flush=True)\n",
        "            x = int(input())\n",
        "            return self.choices[x]\n",
        "        else:\n",
        "            print(\"/\".join(self.choices),flush=True)\n",
        "            return input()\n",
        "\n",
        "class Content():\n",
        "    def __init__(self,x):\n",
        "        self.x=x\n",
        "\n",
        "class If(Content):\n",
        "    pass\n",
        "\n",
        "class AND(Content):\n",
        "    pass\n",
        "\n",
        "class OR(Content):\n",
        "    pass"
      ]
    },
    {
      "cell_type": "code",
      "source": [
        "rules_place = {\n",
        "    'default': Ask(['y','n']),\n",
        "    'region': Ask(['mountain','beach','forest','city','historical site','other']),\n",
        "    'activity': Ask(['hiking','swimming','wildlife watching','sightseeing','cultural visit','other']),\n",
        "    'season': Ask(['summer','winter','spring','autumn']),\n",
        "    'accessibility': Ask(['easy','moderate','difficult']),\n",
        "    'facility': Ask(['accommodation','food services','guides','parking']),\n",
        "    'attraction:mountain' : If(['region:mountain', 'activity:hiking', 'accessibility:moderate']),\n",
        "    'attraction:beach' : If(['region:beach', 'activity:swimming', 'season:summer', OR(['facility:food services','facility:accommodation'])]),\n",
        "    'attraction:forest' : If(['region:forest', 'activity:wildlife watching', 'accessibility:difficult', 'season:spring']),\n",
        "    'attraction:historical_site' : If(['region:historical site', 'activity:cultural visit', 'facility:guides']),\n",
        "    'attraction:city_tour' : If(['region:city', 'activity:sightseeing', OR(['facility:accommodation','facility:food services'])]),\n",
        "    'attraction:ski_resort' : If(['region:mountain', 'activity:skiing', 'season:winter', 'facility:accommodation'])\n",
        "}\n"
      ],
      "metadata": {
        "id": "oiL0dvUJjnIV"
      },
      "execution_count": 31,
      "outputs": []
    },
    {
      "cell_type": "markdown",
      "metadata": {
        "id": "E1qM8jN6gYXw"
      },
      "source": [
        "In our system, working memory would contain the list of **facts** as **attribute-value pairs**. The knowledgebase can be defined as one big dictionary that maps actions (new facts that should be inserted into working memory) to conditions, expressed as AND-OR expressions. Also, some facts can be `Ask`-ed."
      ]
    },
    {
      "cell_type": "code",
      "execution_count": 36,
      "metadata": {
        "trusted": true,
        "id": "TfTx1RaGgYXw"
      },
      "outputs": [],
      "source": [
        "rules_fruit = {\n",
        "    'default': Ask(['y','n']),\n",
        "    'color': Ask(['red','yellow','green','purple','orange','other']),\n",
        "    'texture': Ask(['smooth','rough','fuzzy']),\n",
        "    'taste': Ask(['sweet','sour','bitter']),\n",
        "    'size': Ask(['small','medium','large']),\n",
        "\n",
        "    'is_citrus': If(['taste:sour', 'color:orange']),\n",
        "    'is_tropical': If(OR(['grows in warm climates', 'needs a lot of sunlight'])),\n",
        "\n",
        "    'fruit:apple': If(['color:red', 'texture:smooth', 'taste:sweet']),\n",
        "    'fruit:banana': If(['color:yellow', 'texture:smooth', 'taste:sweet']),\n",
        "    'fruit:orange': If(['color:orange', 'texture:rough', 'taste:sour', 'is_citrus']),\n",
        "    'fruit:lemon': If(['color:yellow', 'texture:smooth', 'taste:sour', 'is_citrus']),\n",
        "    'fruit:grape': If(['color:purple', 'size:small', 'taste:sweet']),\n",
        "    'fruit:pineapple': If(['color:yellow', 'texture:rough', 'size:large', 'is_tropical']),\n",
        "    'fruit:mango': If(['color:orange', 'texture:smooth', 'taste:sweet', 'is_tropical']),\n",
        "    'fruit:watermelon': If(['color:green', 'size:large', 'taste:sweet']),\n",
        "    'fruit:kiwi': If(['color:green', 'texture:fuzzy', 'taste:sour']),\n",
        "    'fruit:strawberry': If(['color:red', 'texture:rough', 'size:small', 'taste:sweet'])\n",
        "}\n"
      ]
    },
    {
      "cell_type": "markdown",
      "metadata": {
        "id": "WaDypJXngYXw"
      },
      "source": [
        "To perform the backward inference, we will define `Knowledgebase` class. It will contain:\n",
        "* Working `memory` - a dictionary that maps attributes to values\n",
        "* Knowledgebase `rules` in the format as defined above\n",
        "\n",
        "Two main methods are:\n",
        "* `get` to obtain the value of an attribute, performing inference if necessary. For example, `get('color')` would get the value of a color slot (it will ask if necessary, and store the value for later usage in the working memory). If we ask `get('color:blue')`, it will ask for a color, and then return `y`/`n` value depending on the color.\n",
        "* `eval` performs the actual inference, i.e. traverses AND/OR tree, evaluates sub-goals, etc."
      ]
    },
    {
      "cell_type": "code",
      "execution_count": null,
      "metadata": {
        "trusted": true,
        "id": "XVDzInRagYXw"
      },
      "outputs": [],
      "source": [
        "class KnowledgeBase():\n",
        "    def __init__(self,rules):\n",
        "        self.rules = rules\n",
        "        self.memory = {}\n",
        "\n",
        "    def get(self,name):\n",
        "        if ':' in name:\n",
        "            k,v = name.split(':')\n",
        "            vv = self.get(k)\n",
        "            return 'y' if v==vv else 'n'\n",
        "        if name in self.memory.keys():\n",
        "            return self.memory[name]\n",
        "        for fld in self.rules.keys():\n",
        "            if fld==name or fld.startswith(name+\":\"):\n",
        "                # print(\" + proving {}\".format(fld))\n",
        "                value = 'y' if fld==name else fld.split(':')[1]\n",
        "                res = self.eval(self.rules[fld],field=name)\n",
        "                if res!='y' and res!='n' and value=='y':\n",
        "                    self.memory[name] = res\n",
        "                    return res\n",
        "                if res=='y':\n",
        "                    self.memory[name] = value\n",
        "                    return value\n",
        "        # field is not found, using default\n",
        "        res = self.eval(self.rules['default'],field=name)\n",
        "        self.memory[name]=res\n",
        "        return res\n",
        "\n",
        "    def eval(self,expr,field=None):\n",
        "        # print(\" + eval {}\".format(expr))\n",
        "        if isinstance(expr,Ask):\n",
        "            print(field)\n",
        "            return expr.ask()\n",
        "        elif isinstance(expr,If):\n",
        "            return self.eval(expr.x)\n",
        "        elif isinstance(expr,AND) or isinstance(expr,list):\n",
        "            expr = expr.x if isinstance(expr,AND) else expr\n",
        "            for x in expr:\n",
        "                if self.eval(x)=='n':\n",
        "                    return 'n'\n",
        "            return 'y'\n",
        "        elif isinstance(expr,OR):\n",
        "            for x in expr.x:\n",
        "                if self.eval(x)=='y':\n",
        "                    return 'y'\n",
        "            return 'n'\n",
        "        elif isinstance(expr,str):\n",
        "            return self.get(expr)\n",
        "        else:\n",
        "            print(\"Unknown expr: {}\".format(expr))"
      ]
    },
    {
      "cell_type": "markdown",
      "metadata": {
        "id": "LX7sxoKKgYXx"
      },
      "source": [
        "Now let's define our animal knowledgebase and perform the consultation. Note that this call will ask you questions. You can answer by typing `y`/`n` for yes-no questions, or by specifying number (0..N) for questions with longer multiple-choice answers."
      ]
    },
    {
      "cell_type": "code",
      "execution_count": 37,
      "metadata": {
        "trusted": true,
        "colab": {
          "base_uri": "https://localhost:8080/",
          "height": 347
        },
        "id": "ZIEtPivngYXx",
        "outputId": "5f39d43c-3673-43ce-da7d-c92dfd75a7c3"
      },
      "outputs": [
        {
          "name": "stdout",
          "output_type": "stream",
          "text": [
            "color\n",
            "0. red\n",
            "1. yellow\n",
            "2. green\n",
            "3. purple\n",
            "4. orange\n",
            "5. other\n",
            "0\n",
            "texture\n",
            "0. smooth\n",
            "1. rough\n",
            "2. fuzzy\n",
            "0\n",
            "taste\n",
            "0. sweet\n",
            "1. sour\n",
            "2. bitter\n",
            "0\n"
          ]
        },
        {
          "output_type": "execute_result",
          "data": {
            "text/plain": [
              "'apple'"
            ],
            "application/vnd.google.colaboratory.intrinsic+json": {
              "type": "string"
            }
          },
          "metadata": {},
          "execution_count": 37
        }
      ],
      "source": [
        "kb = KnowledgeBase(rules_fruit)\n",
        "kb.get('fruit')"
      ]
    },
    {
      "cell_type": "markdown",
      "metadata": {
        "id": "8lDxknK1gYXx"
      },
      "source": [
        "## Using PyKnow for Forward Inference\n",
        "\n",
        "In the next example, we will try to implement forward inference using one of the libraries for knowledge representation, [PyKnow](https://github.com/buguroo/pyknow/). **PyKnow** is a library for creating forward inference systems in Python, which is designed to be similar to classical old system [CLIPS](http://www.clipsrules.net/index.html).\n",
        "\n",
        "We could have also implemented forward chaining ourselves without many problems, but naive implementations are usually not very efficient. For more effective rule matching a special algorithm [Rete](https://en.wikipedia.org/wiki/Rete_algorithm) is used."
      ]
    },
    {
      "cell_type": "code",
      "execution_count": null,
      "metadata": {
        "trusted": true,
        "id": "5vaUoWi2gYXx",
        "outputId": "6227cd5d-727d-4f02-efea-9922d3b54c68"
      },
      "outputs": [
        {
          "name": "stdout",
          "output_type": "stream",
          "text": [
            "Collecting git+https://github.com/buguroo/pyknow/\n",
            "  Cloning https://github.com/buguroo/pyknow/ to /tmp/pip-req-build-3cqeulyl\n",
            "  Running command git clone --filter=blob:none --quiet https://github.com/buguroo/pyknow/ /tmp/pip-req-build-3cqeulyl\n",
            "  Resolved https://github.com/buguroo/pyknow/ to commit 48818336f2e9a126f1964f2d8dc22d37ff800fe8\n",
            "  Preparing metadata (setup.py) ... \u001b[?25ldone\n",
            "\u001b[?25hCollecting frozendict==1.2\n",
            "  Using cached frozendict-1.2.tar.gz (2.6 kB)\n",
            "  Preparing metadata (setup.py) ... \u001b[?25ldone\n",
            "\u001b[?25hCollecting schema==0.6.7\n",
            "  Using cached schema-0.6.7-py2.py3-none-any.whl (14 kB)\n",
            "Building wheels for collected packages: pyknow, frozendict\n",
            "  Building wheel for pyknow (setup.py) ... \u001b[?25ldone\n",
            "\u001b[?25h  Created wheel for pyknow: filename=pyknow-1.7.0-py3-none-any.whl size=34228 sha256=b7de5b09292c4007667c72f69b98d5a1b5f7324ff15f9dd8e077c3d5f7aade42\n",
            "  Stored in directory: /tmp/pip-ephem-wheel-cache-k7jpave7/wheels/81/1a/d3/f6c15dbe1955598a37755215f2a10449e7418500d7bd4b9508\n",
            "  Building wheel for frozendict (setup.py) ... \u001b[?25ldone\n",
            "\u001b[?25h  Created wheel for frozendict: filename=frozendict-1.2-py3-none-any.whl size=3148 sha256=2863d55c240d2409cddf05ccfe600591f8478681549fc97555c47c90dc6bb160\n",
            "  Stored in directory: /home/rg/.cache/pip/wheels/49/ac/f8/cb8120244e710bdb479c86198b03c7b08c3c2d3d2bf448fd6e\n",
            "Successfully built pyknow frozendict\n",
            "Installing collected packages: schema, frozendict, pyknow\n",
            "Successfully installed frozendict-1.2 pyknow-1.7.0 schema-0.6.7\n"
          ]
        }
      ],
      "source": [
        "import sys\n",
        "!{sys.executable} -m pip install git+https://github.com/buguroo/pyknow/"
      ]
    },
    {
      "cell_type": "code",
      "execution_count": null,
      "metadata": {
        "trusted": true,
        "id": "bk7ZuH5xgYXx"
      },
      "outputs": [],
      "source": [
        "from pyknow import *\n",
        "#import pyknow"
      ]
    },
    {
      "cell_type": "markdown",
      "metadata": {
        "id": "Nt2Pwf7JgYXy"
      },
      "source": [
        "We will define our system as a class that subclasses `KnowledgeEngine`. Each rule is defined by a separate function with `@Rule` annotation, which specifies when the rule should fire. Inside the rule, we can add new facts using `declare` function, and adding those facts will result in some more rules being called by forward inference engine."
      ]
    },
    {
      "cell_type": "code",
      "execution_count": null,
      "metadata": {
        "trusted": true,
        "id": "Q4ZceN-xgYXy"
      },
      "outputs": [],
      "source": [
        "class Animals(KnowledgeEngine):\n",
        "    @Rule(OR(\n",
        "           AND(Fact('sharp teeth'),Fact('claws'),Fact('forward looking eyes')),\n",
        "           Fact('eats meat')))\n",
        "    def cornivor(self):\n",
        "        self.declare(Fact('carnivor'))\n",
        "\n",
        "    @Rule(OR(Fact('hair'),Fact('gives milk')))\n",
        "    def mammal(self):\n",
        "        self.declare(Fact('mammal'))\n",
        "\n",
        "    @Rule(Fact('mammal'),\n",
        "          OR(Fact('has hooves'),Fact('chews cud')))\n",
        "    def hooves(self):\n",
        "        self.declare('ungulate')\n",
        "\n",
        "    @Rule(OR(Fact('feathers'),AND(Fact('flies'),Fact('lays eggs'))))\n",
        "    def bird(self):\n",
        "        self.declare('bird')\n",
        "\n",
        "    @Rule(Fact('mammal'),Fact('carnivor'),\n",
        "          Fact(color='red-brown'),\n",
        "          Fact(pattern='dark spots'))\n",
        "    def monkey(self):\n",
        "        self.declare(Fact(animal='monkey'))\n",
        "\n",
        "    @Rule(Fact('mammal'),Fact('carnivor'),\n",
        "          Fact(color='red-brown'),\n",
        "          Fact(pattern='dark stripes'))\n",
        "    def tiger(self):\n",
        "        self.declare(Fact(animal='tiger'))\n",
        "\n",
        "    @Rule(Fact('ungulate'),\n",
        "          Fact('long neck'),\n",
        "          Fact('long legs'),\n",
        "          Fact(pattern='dark spots'))\n",
        "    def giraffe(self):\n",
        "        self.declare(Fact(animal='giraffe'))\n",
        "\n",
        "    @Rule(Fact('ungulate'),\n",
        "          Fact(pattern='dark stripes'))\n",
        "    def zebra(self):\n",
        "        self.declare(Fact(animal='zebra'))\n",
        "\n",
        "    @Rule(Fact('bird'),\n",
        "          Fact('long neck'),\n",
        "          Fact('cannot fly'),\n",
        "          Fact(color='black and white'))\n",
        "    def straus(self):\n",
        "        self.declare(Fact(animal='ostrich'))\n",
        "\n",
        "    @Rule(Fact('bird'),\n",
        "          Fact('swims'),\n",
        "          Fact('cannot fly'),\n",
        "          Fact(color='black and white'))\n",
        "    def pinguin(self):\n",
        "        self.declare(Fact(animal='pinguin'))\n",
        "\n",
        "    @Rule(Fact('bird'),\n",
        "          Fact('flies well'))\n",
        "    def albatros(self):\n",
        "        self.declare(Fact(animal='albatross'))\n",
        "\n",
        "    @Rule(Fact(animal=MATCH.a))\n",
        "    def print_result(self,a):\n",
        "          print('Animal is {}'.format(a))\n",
        "\n",
        "    def factz(self,l):\n",
        "        for x in l:\n",
        "            self.declare(x)"
      ]
    },
    {
      "cell_type": "markdown",
      "metadata": {
        "id": "f51NcuzDgYXy"
      },
      "source": [
        "Once we have defined a knowledgebase, we populate our working memory with some initial facts, and then call `run()` method to perform the inference. You can see as a result that new inferred facts are added to the working memory, including the final fact about the animal (if we set up all the initial facts correctly)."
      ]
    },
    {
      "cell_type": "code",
      "execution_count": null,
      "metadata": {
        "trusted": true,
        "id": "hPf0Svf9gYXy",
        "outputId": "2d5cb9dd-0ada-4aa7-a312-1483fa6ea039"
      },
      "outputs": [
        {
          "name": "stdout",
          "output_type": "stream",
          "text": [
            "Animal is tiger\n"
          ]
        },
        {
          "data": {
            "text/plain": [
              "FactList([(0, InitialFact()),\n",
              "          (1, Fact(color='red-brown')),\n",
              "          (2, Fact(pattern='dark stripes')),\n",
              "          (3, Fact('sharp teeth')),\n",
              "          (4, Fact('claws')),\n",
              "          (5, Fact('forward looking eyes')),\n",
              "          (6, Fact('gives milk')),\n",
              "          (7, Fact('mammal')),\n",
              "          (8, Fact('carnivor')),\n",
              "          (9, Fact(animal='tiger'))])"
            ]
          },
          "execution_count": 15,
          "metadata": {},
          "output_type": "execute_result"
        }
      ],
      "source": [
        "ex1 = Animals()\n",
        "ex1.reset()\n",
        "ex1.factz([\n",
        "    Fact(color='red-brown'),\n",
        "    Fact(pattern='dark stripes'),\n",
        "    Fact('sharp teeth'),\n",
        "    Fact('claws'),\n",
        "    Fact('forward looking eyes'),\n",
        "    Fact('gives milk')])\n",
        "ex1.run()\n",
        "ex1.facts"
      ]
    },
    {
      "cell_type": "code",
      "execution_count": null,
      "metadata": {
        "id": "0pg7IkJWgYXy"
      },
      "outputs": [],
      "source": []
    }
  ],
  "metadata": {
    "kernelspec": {
      "display_name": "Python 3.7.4 64-bit (conda)",
      "metadata": {
        "interpreter": {
          "hash": "86193a1ab0ba47eac1c69c1756090baa3b420b3eea7d4aafab8b85f8b312f0c5"
        }
      },
      "name": "python3"
    },
    "language_info": {
      "codemirror_mode": {
        "name": "ipython",
        "version": 3
      },
      "file_extension": ".py",
      "mimetype": "text/x-python",
      "name": "python",
      "nbconvert_exporter": "python",
      "pygments_lexer": "ipython3",
      "version": "3.11.2"
    },
    "colab": {
      "provenance": []
    }
  },
  "nbformat": 4,
  "nbformat_minor": 0
}